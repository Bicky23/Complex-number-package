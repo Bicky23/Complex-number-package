{
 "cells": [
  {
   "cell_type": "code",
   "execution_count": 2,
   "metadata": {
    "collapsed": true
   },
   "outputs": [],
   "source": [
    "from math import atan\n",
    "\n",
    "class complex_number(object):\n",
    "    \n",
    "    def __init__(self,x,y):\n",
    "        \n",
    "        if (type(x) == float or type(x) == int) and (type(y) == float or type(y) == int):\n",
    "            self.real = x\n",
    "            self.imag = y\n",
    "        else:\n",
    "            print('The number is invalid')\n",
    "            \n",
    "    def __repr__(self):\n",
    "        \n",
    "        if self.real == 0.0 and self.imag == 0.0:\n",
    "            return \"0.00\"\n",
    "        if self.real == 0:\n",
    "            return \"%.2fi\" % self.imag\n",
    "        if self.imag == 0:\n",
    "            return \"%.2f\" % self.real\n",
    "        return \"%.2f %s %.2fi\" % (self.real, \"+\" if self.imag >= 0 else \"-\", abs(self.imag))\n",
    "    \n",
    "    def __add__(self, other):\n",
    "        return complex_number(self.real + other.real, self.imag + other.imag)\n",
    "    \n",
    "    def __sub__(self, other):\n",
    "        return complex_number(self.real - other.real, self.imag - other.imag)\n",
    "    \n",
    "    def __mul__(self, other):\n",
    "        return complex_number(self.real*other.real - self.imag*other.imag, self.real*other.imag + self.imag*other.real)\n",
    "    \n",
    "    def __truediv__(self, other):\n",
    "        if other.real*other.real + other.imag*other.imag != 0:\n",
    "            return ((self.real*other.real + self.imag*other.imag) / (other.real*other.real + other.imag*other.imag), \n",
    "                             (self.imag*other.real - self.real*other.imag) / (other.real*other.real + other.imag*other.imag))\n",
    "        else:\n",
    "            return \"Denominator is zero.\"\n",
    "    def __abs__(self):\n",
    "        return (self.real**2 + self.imag**2)**0.5\n",
    "    \n",
    "    def real_part(self):\n",
    "        return self.real\n",
    "    \n",
    "    def imaginary_part(self):\n",
    "        return self.imag\n",
    "    \n",
    "    def argument(self):\n",
    "        return math.atan(self.imag/self.real)\n",
    "        \n",
    "    def conjugate(self):\n",
    "        return complex_number(self.real, -self.imag)\n",
    "        \n",
    "        \n",
    "        \n",
    "    "
   ]
  },
  {
   "cell_type": "code",
   "execution_count": 3,
   "metadata": {},
   "outputs": [],
   "source": [
    "a = complex_number(3.5, 7.9)"
   ]
  },
  {
   "cell_type": "code",
   "execution_count": 4,
   "metadata": {},
   "outputs": [
    {
     "data": {
      "text/plain": [
       "3.50 + 7.90i"
      ]
     },
     "execution_count": 4,
     "metadata": {},
     "output_type": "execute_result"
    }
   ],
   "source": [
    "a"
   ]
  },
  {
   "cell_type": "code",
   "execution_count": 5,
   "metadata": {
    "collapsed": true
   },
   "outputs": [],
   "source": [
    "b = complex_number(3,-10)"
   ]
  },
  {
   "cell_type": "code",
   "execution_count": 6,
   "metadata": {},
   "outputs": [
    {
     "data": {
      "text/plain": [
       "6.50 - 2.10i"
      ]
     },
     "execution_count": 6,
     "metadata": {},
     "output_type": "execute_result"
    }
   ],
   "source": [
    "a+b"
   ]
  },
  {
   "cell_type": "code",
   "execution_count": 7,
   "metadata": {},
   "outputs": [
    {
     "data": {
      "text/plain": [
       "0.50 + 17.90i"
      ]
     },
     "execution_count": 7,
     "metadata": {},
     "output_type": "execute_result"
    }
   ],
   "source": [
    "a - b"
   ]
  },
  {
   "cell_type": "code",
   "execution_count": 8,
   "metadata": {},
   "outputs": [
    {
     "data": {
      "text/plain": [
       "89.50 - 11.30i"
      ]
     },
     "execution_count": 8,
     "metadata": {},
     "output_type": "execute_result"
    }
   ],
   "source": [
    "a*b"
   ]
  },
  {
   "cell_type": "code",
   "execution_count": 9,
   "metadata": {},
   "outputs": [
    {
     "data": {
      "text/plain": [
       "(-0.6284403669724771, 0.5385321100917432)"
      ]
     },
     "execution_count": 9,
     "metadata": {},
     "output_type": "execute_result"
    }
   ],
   "source": [
    "a/b"
   ]
  },
  {
   "cell_type": "code",
   "execution_count": 10,
   "metadata": {},
   "outputs": [
    {
     "data": {
      "text/plain": [
       "8.640601830891178"
      ]
     },
     "execution_count": 10,
     "metadata": {},
     "output_type": "execute_result"
    }
   ],
   "source": [
    "abs(a)"
   ]
  },
  {
   "cell_type": "code",
   "execution_count": null,
   "metadata": {
    "collapsed": true
   },
   "outputs": [],
   "source": []
  }
 ],
 "metadata": {
  "kernelspec": {
   "display_name": "Python 3",
   "language": "python",
   "name": "python3"
  },
  "language_info": {
   "codemirror_mode": {
    "name": "ipython",
    "version": 3
   },
   "file_extension": ".py",
   "mimetype": "text/x-python",
   "name": "python",
   "nbconvert_exporter": "python",
   "pygments_lexer": "ipython3",
   "version": "3.6.3"
  },
  "widgets": {
   "state": {},
   "version": "1.1.2"
  }
 },
 "nbformat": 4,
 "nbformat_minor": 2
}
